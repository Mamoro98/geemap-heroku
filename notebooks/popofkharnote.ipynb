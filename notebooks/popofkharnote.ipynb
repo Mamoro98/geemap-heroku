{
 "cells": [
  {
   "cell_type": "code",
   "execution_count": 1,
   "id": "5d5a1fa4",
   "metadata": {},
   "outputs": [],
   "source": [
    "import geemap\n",
    "import json \n",
    "import os \n",
    "import requests\n",
    "from geemap import geojson_to_ee, ee_to_geojson\n",
    "from ipyleaflet import GeoJSON"
   ]
  },
  {
   "cell_type": "code",
   "execution_count": 2,
   "id": "57832c1e",
   "metadata": {},
   "outputs": [],
   "source": [
    "Map = geemap.Map()"
   ]
  },
  {
   "cell_type": "code",
   "execution_count": 3,
   "id": "2256b80f",
   "metadata": {},
   "outputs": [],
   "source": [
    "# shape_file = r'C:\\Users\\Ammar\\Downloads\\oro\\supermarket.shp'"
   ]
  },
  {
   "cell_type": "raw",
   "id": "30100e51",
   "metadata": {},
   "source": []
  },
  {
   "cell_type": "code",
   "execution_count": 4,
   "id": "70701477",
   "metadata": {},
   "outputs": [],
   "source": [
    "# superMarkets = geemap.shp_to_ee(shape_file)"
   ]
  },
  {
   "cell_type": "code",
   "execution_count": 5,
   "id": "ebf22772",
   "metadata": {},
   "outputs": [],
   "source": [
    "# Map.addLayer(superMarkets,{},\"super markets\")"
   ]
  },
  {
   "cell_type": "markdown",
   "id": "8e973b1d",
   "metadata": {},
   "source": []
  },
  {
   "cell_type": "code",
   "execution_count": null,
   "id": "c0375f8d",
   "metadata": {},
   "outputs": [],
   "source": []
  },
  {
   "cell_type": "code",
   "execution_count": 6,
   "id": "2e6e9b6f",
   "metadata": {},
   "outputs": [],
   "source": [
    "from ipywidgets import Text , HTML \n",
    "from ipyleaflet import WidgetControl, GeoJSON\n",
    "import ipywidgets as widgets\n",
    "from ipywidgets import Button, Layout\n",
    "from ipywidgets import * \n",
    "html1 = HTML(\n",
    "    value = '''\n",
    "    <h4> Populations </h4>\n",
    "    Click over a point\n",
    "    '''\n",
    "  \n",
    ")\n",
    "\n",
    "html2 = HTML(\n",
    "    value = '''\n",
    "    <h4> Location </h4>\n",
    "   \n",
    "    '''\n",
    "  \n",
    ")\n",
    "\n"
   ]
  },
  {
   "cell_type": "code",
   "execution_count": 7,
   "id": "dfeccafd",
   "metadata": {},
   "outputs": [],
   "source": [
    "html1.layout.margin = \"0px 20px 20px 20px\"\n",
    "html1.layout.height = \"250px\" \n",
    "html1.layout.overflow=\"auto\"\n",
    "\n",
    "html2.layout.margin = \"0px 20px 20px 20px\"\n",
    "html2.layout.height = \"250px\" \n",
    "html2.layout.overflow=\"auto\"\n"
   ]
  },
  {
   "cell_type": "code",
   "execution_count": 8,
   "id": "89ea0044",
   "metadata": {},
   "outputs": [],
   "source": [
    "control1 = WidgetControl(widget=html1, position = 'bottomright')\n",
    "control2 = WidgetControl(widget=html2, position = 'topright')"
   ]
  },
  {
   "cell_type": "code",
   "execution_count": 9,
   "id": "56fbc070",
   "metadata": {},
   "outputs": [],
   "source": [
    "Map.add_control(control1)\n",
    "Map.add_control(control2)"
   ]
  },
  {
   "cell_type": "code",
   "execution_count": null,
   "id": "99e14d92",
   "metadata": {},
   "outputs": [],
   "source": []
  },
  {
   "cell_type": "code",
   "execution_count": 10,
   "id": "86aa1667",
   "metadata": {},
   "outputs": [],
   "source": [
    "def update_html1(feature,**kwargs):\n",
    "    html1.value =  '''\n",
    "    <div>\n",
    "    \n",
    "    males from 80_84  population {} \n",
    "    <br>\n",
    "    males from 75_79  population {}\n",
    "    <br>\n",
    "    males from 70_74  population {}\n",
    "    <br>\n",
    "    males from 65_69  population {}\n",
    "    <br>\n",
    "    males from 60_64  population {}\n",
    "    <br>\n",
    "    males from 55_59 population {}\n",
    "    <br>\n",
    "    males from 50_54  population {}\n",
    "    <br>\n",
    "    males from 45_49  population {}\n",
    "    <br>\n",
    "    males from 40-44  population {}\n",
    "    <br>\n",
    "    males from 35-39  population {}\n",
    "    <br>\n",
    "    males from 30-34  population {}\n",
    "    <br>\n",
    "    males from 25-29  population {}\n",
    "    <br>\n",
    "    males from 20-24  population {}\n",
    "    <br>\n",
    "    males from 15-19  population {}\n",
    "    <br>\n",
    "    males from 10-14 population {}\n",
    "    <br>\n",
    "    males from 5-9  population {}\n",
    "    <br>\n",
    "    males from 0-4  population {}\n",
    "    <br>\n",
    "    females from 80_84  population {} \n",
    "    <br>\n",
    "    females from 75_79  population {}\n",
    "    <br>\n",
    "    females from 70_74  population {}\n",
    "    <br>\n",
    "    females from 65_69  population {}\n",
    "    <br>\n",
    "    females from 60_64  population {}\n",
    "    <br>\n",
    "    females from 55_59 population {}\n",
    "    <br>\n",
    "    females from 50_54  population {}\n",
    "    <br>\n",
    "    females from 45_49  population {}\n",
    "    <br>\n",
    "    females from 40-44  population {}\n",
    "    <br>\n",
    "    females from 35-39  population {}\n",
    "    <br>\n",
    "    females from 30-34  population {}\n",
    "    <br>\n",
    "    females from 25-29  population {}\n",
    "    <br>\n",
    "    females from 20-24  population {}\n",
    "    <br>\n",
    "    females from 15-19  population {}\n",
    "    <br>\n",
    "    females from 10-14 population {}\n",
    "    <br>\n",
    "    females from 5-9  population {}\n",
    "    <br>\n",
    "    females from 0-4  population {}\n",
    "   \n",
    "    <br>\n",
    "    total from 80_84  population {} \n",
    "    <br>\n",
    "    total from 75_79  population {}\n",
    "    <br>\n",
    "    total from 70_74  population {}\n",
    "    <br>\n",
    "    total from 65_69  population {}\n",
    "    <br>\n",
    "    total from 60_64  population {}\n",
    "    <br>\n",
    "    total from 55_59 population {}\n",
    "    <br>\n",
    "    total from 50_54  population {}\n",
    "    <br>\n",
    "    total from 45_49  population {}\n",
    "    <br>\n",
    "    total from 40-44  population {}\n",
    "    <br>\n",
    "    total from 35-39  population {}\n",
    "    <br>\n",
    "    total from 30-34  population {}\n",
    "    <br>\n",
    "    total from 25-29  population {}\n",
    "    <br>\n",
    "    total from 20-24  population {}\n",
    "    <br>\n",
    "    total from 15-19  population {}\n",
    "    <br>\n",
    "    total from 10-14 population {}\n",
    "    <br>\n",
    "    total from 5-9  population {}\n",
    "    <br>\n",
    "    total from 0-4  population {}\n",
    "   </div>\n",
    "    '''.format(\n",
    "        \n",
    "        feature['properties']['A80_84M'],\n",
    "        feature['properties']['A75_79M'],\n",
    "        feature['properties']['A70_74M'],\n",
    "        feature['properties']['A65_69M'],\n",
    "        feature['properties']['A60_64M'],\n",
    "        feature['properties']['A55_59M'],\n",
    "        feature['properties']['A50_54M'],\n",
    "        feature['properties']['A45_49M'],\n",
    "        feature['properties']['A40_44M'],\n",
    "        feature['properties']['A35_39M'],\n",
    "        feature['properties']['A30_34M'],\n",
    "        feature['properties']['A25_29M'],\n",
    "        feature['properties']['A20_24M'],\n",
    "        feature['properties']['A15_19M'],\n",
    "        feature['properties']['A10_14M'],\n",
    "        feature['properties']['A05_09M'],\n",
    "        feature['properties']['A00_04M'],\n",
    "        feature['properties']['A80_84F'],\n",
    "        feature['properties']['A75_79F'],\n",
    "        feature['properties']['A70_74F'],\n",
    "        feature['properties']['A65_69F'],\n",
    "        feature['properties']['A60_64F'],\n",
    "        feature['properties']['A55_59F'],\n",
    "        feature['properties']['A50_54F'],\n",
    "        feature['properties']['A45_49F'],\n",
    "        feature['properties']['A40_44F'],\n",
    "        feature['properties']['A35_39F'],\n",
    "        feature['properties']['A30_34F'],\n",
    "        feature['properties']['A25_29F'],\n",
    "        feature['properties']['A20_24F'],\n",
    "        feature['properties']['A15_19F'],\n",
    "        feature['properties']['A10_14F'],\n",
    "        feature['properties']['A05_09F'],\n",
    "        feature['properties']['A00_04F'],\n",
    "        feature['properties']['A80_84B'],\n",
    "        feature['properties']['A75_79B'],\n",
    "        feature['properties']['A70_74B'],\n",
    "        feature['properties']['A65_69B'],\n",
    "        feature['properties']['A60_64B'],\n",
    "        feature['properties']['A55_59B'],\n",
    "        feature['properties']['A50_54B'],\n",
    "        feature['properties']['A45_49B'],\n",
    "        feature['properties']['A40_44B'],\n",
    "        feature['properties']['A35_39B'],\n",
    "        feature['properties']['A30_34B'],\n",
    "        feature['properties']['A25_29B'],\n",
    "        feature['properties']['A20_24B'],\n",
    "        feature['properties']['A15_19B'],\n",
    "        feature['properties']['A10_14B'],\n",
    "        feature['properties']['A05_09B'],\n",
    "        feature['properties']['A00_04B'] \n",
    "        )\n",
    "    \n",
    "    html2.value = '''\n",
    "    Location : {} \n",
    "    <br>\n",
    "    \n",
    "    '''.format(feature['properties']['NAME2'])"
   ]
  },
  {
   "cell_type": "code",
   "execution_count": 11,
   "id": "760cdc4c",
   "metadata": {},
   "outputs": [],
   "source": [
    "path =  r'C:\\Users\\Ammar\\Downloads\\oro\\supermarket_geoJson.geojson'"
   ]
  },
  {
   "cell_type": "code",
   "execution_count": 12,
   "id": "4bb3bec5",
   "metadata": {},
   "outputs": [],
   "source": [
    "with open(path) as f :\n",
    "    json_data = json.load(f)"
   ]
  },
  {
   "cell_type": "code",
   "execution_count": 13,
   "id": "8a05fbba",
   "metadata": {},
   "outputs": [],
   "source": [
    "json_layer = GeoJSON(data=json_data, name=\"Sudan state\",hover_style={'fillColor':'red','fillOpacity':0.5 })"
   ]
  },
  {
   "cell_type": "code",
   "execution_count": 14,
   "id": "da2e2d9a",
   "metadata": {},
   "outputs": [],
   "source": [
    "Map.add_layer(json_layer)"
   ]
  },
  {
   "cell_type": "code",
   "execution_count": 15,
   "id": "8be446d4",
   "metadata": {},
   "outputs": [],
   "source": [
    "json_layer.on_click(update_html1)"
   ]
  },
  {
   "cell_type": "code",
   "execution_count": 16,
   "id": "6ffc8c0c",
   "metadata": {},
   "outputs": [
    {
     "data": {
      "application/vnd.jupyter.widget-view+json": {
       "model_id": "0d942b4894a542f3839cfa8820358000",
       "version_major": 2,
       "version_minor": 0
      },
      "text/plain": [
       "Map(center=[20, 0], controls=(WidgetControl(options=['position', 'transparent_bg'], widget=HBox(children=(Togg…"
      ]
     },
     "execution_count": 16,
     "metadata": {},
     "output_type": "execute_result"
    }
   ],
   "source": [
    "Map"
   ]
  },
  {
   "cell_type": "code",
   "execution_count": 1,
   "id": "cf1b0b08",
   "metadata": {},
   "outputs": [],
   "source": []
  },
  {
   "cell_type": "code",
   "execution_count": null,
   "id": "ec1f619f",
   "metadata": {},
   "outputs": [],
   "source": []
  },
  {
   "cell_type": "code",
   "execution_count": null,
   "id": "a538e623",
   "metadata": {},
   "outputs": [],
   "source": []
  },
  {
   "cell_type": "code",
   "execution_count": null,
   "id": "447cdf3d",
   "metadata": {
    "scrolled": true
   },
   "outputs": [],
   "source": []
  },
  {
   "cell_type": "code",
   "execution_count": null,
   "id": "c54120cc",
   "metadata": {},
   "outputs": [],
   "source": []
  },
  {
   "cell_type": "code",
   "execution_count": null,
   "id": "59a63ca4",
   "metadata": {},
   "outputs": [],
   "source": []
  },
  {
   "cell_type": "code",
   "execution_count": null,
   "id": "404d642e",
   "metadata": {},
   "outputs": [],
   "source": []
  },
  {
   "cell_type": "code",
   "execution_count": null,
   "id": "f1668ffa",
   "metadata": {},
   "outputs": [],
   "source": [
    "\n"
   ]
  },
  {
   "cell_type": "code",
   "execution_count": null,
   "id": "a884e652",
   "metadata": {},
   "outputs": [],
   "source": []
  }
 ],
 "metadata": {
  "kernelspec": {
   "display_name": "Python 3 (ipykernel)",
   "language": "python",
   "name": "python3"
  },
  "language_info": {
   "codemirror_mode": {
    "name": "ipython",
    "version": 3
   },
   "file_extension": ".py",
   "mimetype": "text/x-python",
   "name": "python",
   "nbconvert_exporter": "python",
   "pygments_lexer": "ipython3",
   "version": "3.9.15"
  }
 },
 "nbformat": 4,
 "nbformat_minor": 5
}
